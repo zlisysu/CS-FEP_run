{
 "cells": [
  {
   "cell_type": "markdown",
   "id": "1db5e501",
   "metadata": {},
   "source": [
    "# System Requirements\n",
    "## Hardware requirements\n",
    "CS-FEP requires a standard computer with GPUs like NVIDIA GeForce RTX 2080 Ti or Tesla V100-SXM3-32GB.\n",
    "## Software requirements\n",
    "### OS Requirements\n",
    "This package is supported for *Linux*. The package has been tested on the following systems:\n",
    "+ Linux: CentOs 7\n",
    "\n",
    "### Simulation Software\n",
    "+ Amber with version >= 18 with self-modifying patch of the ti.F90 in AMBERHOME/src/pmemd/src in order to avoid the reorder the atoms of ligand.\n",
    "- To modify: The \"ti_check_and_adjust_crd\" subroutine of ti.F90 \n",
    "    - For amber18: use the `ti.F90.patch` and `patch.sh` in amber18_patch\n",
    "    - For amber20: use the `ti.F90.patch` and `patch.sh` in amber20_patch\n",
    "```sh \n",
    "\n",
    "```    \n",
    "    \n",
    "The installation guide of Amber: http://ambermd.org/Installation.php\n",
    "- Typical install time of Amber on a \"normal\" desktop computer: about 40 min.\n",
    "### Analysis Code Dependencies\n",
    "- The analysis code depends on the Python scientific stack. \n",
    "```\n",
    "numpy\n",
    "pandas\n",
    "pymbar\n",
    "matplotlib\n",
    "```\n",
    "- Typical install time of python and required packages on a \"normal\" desktop computer: about 20 min.\n"
   ]
  },
  {
   "cell_type": "markdown",
   "id": "d582de5f",
   "metadata": {},
   "source": [
    "# Running simulation\n",
    "- Use this script to run the MD simulation\n",
    "`run.sh`\n",
    "```sh\n",
    "#!/bin/bash\n",
    "ROOT=`pwd`\n",
    "TARGET='cdk2_28-26_demo'\n",
    "WINS='0.00 0.05 0.10 0.20 0.30 0.40 0.50 0.60 0.70 0.80 0.90 0.95 1.00'\n",
    "SIDES='complex/cM2A complex/cM2B ligands/lM2A ligands/lM2B'\n",
    "_CUDA_VISIBLE_DEVICES_=0\n",
    "for side in $SIDES;do\n",
    "    cd $ROOT/$TARGET/$side\n",
    "    for win in $WINS;do\n",
    "        cd $win\n",
    "        sh submit.sh $_CUDA_VISIBLE_DEVICES_\n",
    "    done\n",
    "done\n",
    "```\n",
    "- Expected run time for demo's MD simulation on a \"normal\" desktop computer(with one gpu like Tesla V100-SXM3-32GB): "
   ]
  },
  {
   "cell_type": "markdown",
   "id": "488ec951",
   "metadata": {},
   "source": [
    "# Analysis\n",
    "- The demo's simulation out was provided in the cdk2_28-26.tar.bz2, use the following command to extract the data:\n",
    "```sh\n",
    "tar -zxvf cdk2_28-26.tar.bz2\n",
    "```\n",
    "- Use the in-house free energy calculation python script: `analysis_free_energy.py`\n",
    "- `aly.sh`\n",
    "```sh\n",
    "#!/bin/bash\n",
    "ROOT=`pwd`\n",
    "FEP_PATH=\"$ROOT/cdk2_28-26/FEP\"\n",
    "mkdir -p analysis_out\n",
    "cd analysis_out\n",
    "python $ROOT/analysis_free_energy.py -d ${FEP_PATH} -f 0.25 -o fe_out.csv\n",
    "cd ..\n",
    "```"
   ]
  },
  {
   "cell_type": "code",
   "execution_count": null,
   "id": "1b73935c",
   "metadata": {},
   "outputs": [],
   "source": []
  }
 ],
 "metadata": {
  "kernelspec": {
   "display_name": "Python 3",
   "language": "python",
   "name": "python3"
  },
  "language_info": {
   "codemirror_mode": {
    "name": "ipython",
    "version": 3
   },
   "file_extension": ".py",
   "mimetype": "text/x-python",
   "name": "python",
   "nbconvert_exporter": "python",
   "pygments_lexer": "ipython3",
   "version": "3.8.8"
  }
 },
 "nbformat": 4,
 "nbformat_minor": 5
}
